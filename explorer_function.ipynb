{
 "cells": [
  {
   "cell_type": "markdown",
   "metadata": {},
   "source": [
    "Системы аналитических вычислений.\n",
    "\n",
    "Студент: Пермяков Никита Александрович, М8О-208Б-19\n",
    "\n",
    "Лабораторная работа №1."
   ]
  },
  {
   "cell_type": "markdown",
   "metadata": {},
   "source": [
    "## Задание 1 - часть 1 - Квадратик"
   ]
  },
  {
   "cell_type": "code",
   "execution_count": 16,
   "metadata": {},
   "outputs": [],
   "source": [
    "AB = 11\n",
    "BC = 23\n",
    "CD = 11\n",
    "AD = 23\n",
    "alpha = -60\n",
    "\n",
    "x0 = 0\n",
    "y0 = 0\n",
    "x1 = x0\n",
    "y1 = y0 + AB\n",
    "x2 = x0 + AD\n",
    "y2 = y0 + AB\n",
    "x3 = x0 + AD\n",
    "y3 = y0"
   ]
  },
  {
   "cell_type": "code",
   "execution_count": 17,
   "metadata": {},
   "outputs": [],
   "source": [
    "def rot(alpha):\n",
    "    return alpha / 180 * pi\n",
    "    \n",
    "mat_rot = [\n",
    "    [cos(rot(alpha)), sin(rot(alpha))],\n",
    "    [-sin(rot(alpha)), cos(rot(alpha))]\n",
    "]\n",
    "\n",
    "def mult_matrix_vec(X, Y):\n",
    "    h = len(X)\n",
    "    w = len(Y)\n",
    "    assert w == len(X[0]), \"matrix is invalid\" # and isinstance(Y[0], Integer), \"matrix is invalid\" \n",
    "    result = [0 for _ in range(w)]\n",
    "    for j in range(h):  \n",
    "        for k in range(w):  \n",
    "            result[j] += X[j][k] * Y[k]  \n",
    "    return result"
   ]
  },
  {
   "cell_type": "code",
   "execution_count": null,
   "metadata": {},
   "outputs": [],
   "source": [
    "# Поворот, затем перенос относительно первоначальной системы координат\n",
    "g = Graphics()\n",
    "\n",
    "vecs1 = [[x0, y0], [x1, y1], [x2, y2], [x3, y3]]\n",
    "\n",
    "g += polygon2d(vecs1, rgbcolor=(0,1,1))\n",
    "\n",
    "# rotate\n",
    "vecs1_rotated = []\n",
    "for v in vecs1:\n",
    "    v1_rotated = mult_matrix_vec(mat_rot, v)\n",
    "    vecs1_rotated.append(v1_rotated)\n",
    "    \n",
    "g += polygon2d(vecs1_rotated, rgbcolor=(1,0,1))\n",
    "\n",
    "# move\n",
    "vecs1_rotated_moved = vecs1_rotated\n",
    "for v in vecs1_rotated_moved:\n",
    "    v[0] += 40\n",
    "    v[1] += 15\n",
    "\n",
    "g += polygon2d(vecs1_rotated_moved, rgbcolor=(1,1,0))\n",
    "\n",
    "g.set_axes_range(-5, 80, -5, 40)\n",
    "g.show()"
   ]
  },
  {
   "cell_type": "code",
   "execution_count": 1,
   "metadata": {},
   "outputs": [
    {
     "ename": "NameError",
     "evalue": "name 'x0' is not defined",
     "output_type": "error",
     "traceback": [
      "\u001b[0;31m---------------------------------------------------------------------------\u001b[0m",
      "\u001b[0;31mNameError\u001b[0m                                 Traceback (most recent call last)",
      "\u001b[0;32m<ipython-input-1-0e3faa13bdbe>\u001b[0m in \u001b[0;36m<module>\u001b[0;34m\u001b[0m\n\u001b[1;32m      2\u001b[0m \u001b[0mg\u001b[0m \u001b[0;34m=\u001b[0m \u001b[0mGraphics\u001b[0m\u001b[0;34m(\u001b[0m\u001b[0;34m)\u001b[0m\u001b[0;34m\u001b[0m\u001b[0;34m\u001b[0m\u001b[0m\n\u001b[1;32m      3\u001b[0m \u001b[0;34m\u001b[0m\u001b[0m\n\u001b[0;32m----> 4\u001b[0;31m \u001b[0mvecs1\u001b[0m \u001b[0;34m=\u001b[0m \u001b[0;34m[\u001b[0m\u001b[0;34m[\u001b[0m\u001b[0mx0\u001b[0m\u001b[0;34m,\u001b[0m \u001b[0my0\u001b[0m\u001b[0;34m]\u001b[0m\u001b[0;34m,\u001b[0m \u001b[0;34m[\u001b[0m\u001b[0mx1\u001b[0m\u001b[0;34m,\u001b[0m \u001b[0my1\u001b[0m\u001b[0;34m]\u001b[0m\u001b[0;34m,\u001b[0m \u001b[0;34m[\u001b[0m\u001b[0mx2\u001b[0m\u001b[0;34m,\u001b[0m \u001b[0my2\u001b[0m\u001b[0;34m]\u001b[0m\u001b[0;34m,\u001b[0m \u001b[0;34m[\u001b[0m\u001b[0mx3\u001b[0m\u001b[0;34m,\u001b[0m \u001b[0my3\u001b[0m\u001b[0;34m]\u001b[0m\u001b[0;34m]\u001b[0m\u001b[0;34m\u001b[0m\u001b[0;34m\u001b[0m\u001b[0m\n\u001b[0m\u001b[1;32m      5\u001b[0m \u001b[0;34m\u001b[0m\u001b[0m\n\u001b[1;32m      6\u001b[0m \u001b[0mg\u001b[0m \u001b[0;34m+=\u001b[0m \u001b[0mpolygon2d\u001b[0m\u001b[0;34m(\u001b[0m\u001b[0mvecs1\u001b[0m\u001b[0;34m,\u001b[0m \u001b[0mrgbcolor\u001b[0m\u001b[0;34m=\u001b[0m\u001b[0;34m(\u001b[0m\u001b[0mInteger\u001b[0m\u001b[0;34m(\u001b[0m\u001b[0;36m0\u001b[0m\u001b[0;34m)\u001b[0m\u001b[0;34m,\u001b[0m\u001b[0mInteger\u001b[0m\u001b[0;34m(\u001b[0m\u001b[0;36m1\u001b[0m\u001b[0;34m)\u001b[0m\u001b[0;34m,\u001b[0m\u001b[0mInteger\u001b[0m\u001b[0;34m(\u001b[0m\u001b[0;36m1\u001b[0m\u001b[0;34m)\u001b[0m\u001b[0;34m)\u001b[0m\u001b[0;34m)\u001b[0m\u001b[0;34m\u001b[0m\u001b[0;34m\u001b[0m\u001b[0m\n",
      "\u001b[0;31mNameError\u001b[0m: name 'x0' is not defined"
     ]
    }
   ],
   "source": [
    "# Перенос, затем поворот относительно первоначальной системы координат\n",
    "g = Graphics()\n",
    "\n",
    "vecs1 = [[x0, y0], [x1, y1], [x2, y2], [x3, y3]]\n",
    "\n",
    "g += polygon2d(vecs1, rgbcolor=(0,1,1))\n",
    "\n",
    "# move\n",
    "vecs1_moved = vecs1\n",
    "for v in vecs1_moved:\n",
    "    v[0] += 40\n",
    "    v[1] += 15\n",
    "    \n",
    "g += polygon2d(vecs1_moved, rgbcolor=(1,0,1))\n",
    "\n",
    "# rotate\n",
    "vecs1_rotated_moved = []\n",
    "for v in vecs1_moved:\n",
    "    v1_rotated = mult_matrix_vec(mat_rot, v)\n",
    "    vecs1_rotated_moved.append(v1_rotated)\n",
    "\n",
    "g += polygon2d(vecs1_rotated_moved, rgbcolor=(1,1,0))\n",
    "\n",
    "g.set_axes_range(-5, 80, -5, 80)\n",
    "g.show()\n",
    "g.save('move.png')"
   ]
  },
  {
   "cell_type": "markdown",
   "metadata": {},
   "source": [
    "# Задание 1 - часть 2 - Исследование функции"
   ]
  },
  {
   "cell_type": "code",
   "execution_count": 3,
   "metadata": {
    "scrolled": true
   },
   "outputs": [
    {
     "data": {
      "text/html": [
       "<html><script type=\"math/tex; mode=display\">\\newcommand{\\Bold}[1]{\\mathbf{#1}}\\frac{\\sqrt{{\\left| 3 \\, x^{3} + 2 \\, x^{2} - 10 \\, x \\right|}}}{4 \\, x}</script></html>"
      ],
      "text/latex": [
       "\\begin{math}\n",
       "\\newcommand{\\Bold}[1]{\\mathbf{#1}}\\frac{\\sqrt{{\\left| 3 \\, x^{3} + 2 \\, x^{2} - 10 \\, x \\right|}}}{4 \\, x}\n",
       "\\end{math}"
      ],
      "text/plain": [
       "1/4*sqrt(abs(3*x^3 + 2*x^2 - 10*x))/x"
      ]
     },
     "metadata": {},
     "output_type": "display_data"
    },
    {
     "data": {
      "text/plain": [
       "<class 'sage.symbolic.expression.Expression'>"
      ]
     },
     "execution_count": 3,
     "metadata": {},
     "output_type": "execute_result"
    }
   ],
   "source": [
    "f(x) = sqrt(abs(3 * pow(x, 3) + 2 * pow(x, 2) - 10 * x)) / (4 * x)\n",
    "\n",
    "show(f(x))\n",
    "type(f(x))"
   ]
  },
  {
   "cell_type": "markdown",
   "metadata": {},
   "source": [
    "##### 1. Область определения функции  $D$ \n",
    "\n",
    "x &ne; 0"
   ]
  },
  {
   "cell_type": "code",
   "execution_count": 5,
   "metadata": {},
   "outputs": [
    {
     "data": {
      "text/plain": [
       "[[x < 0], [x > 0]]"
      ]
     },
     "execution_count": 5,
     "metadata": {},
     "output_type": "execute_result"
    }
   ],
   "source": [
    "var('x')\n",
    "eq1 = x\n",
    "D = solve(eq1 != 0, x, algorithm='sympy')\n",
    "D"
   ]
  },
  {
   "cell_type": "markdown",
   "metadata": {},
   "source": [
    "###### Область значений функции E(f)\n",
    "\n",
    "f(x) &in; E"
   ]
  },
  {
   "cell_type": "markdown",
   "metadata": {},
   "source": [
    "### 2. Является ли функция четной или нечетной, является ли периодической."
   ]
  },
  {
   "cell_type": "markdown",
   "metadata": {},
   "source": [
    "#### Нечетность функции"
   ]
  },
  {
   "cell_type": "code",
   "execution_count": 6,
   "metadata": {},
   "outputs": [
    {
     "data": {
      "text/plain": [
       "1/4*sqrt(abs(3*x^3 + 2*x^2 - 10*x))/x - 1/4*sqrt(abs(3*x^3 - 2*x^2 - 10*x))/x"
      ]
     },
     "execution_count": 6,
     "metadata": {},
     "output_type": "execute_result"
    }
   ],
   "source": [
    "(f(x) + f(-x)).expand().simplify()"
   ]
  },
  {
   "cell_type": "markdown",
   "metadata": {},
   "source": [
    "#### Четность функции"
   ]
  },
  {
   "cell_type": "code",
   "execution_count": 7,
   "metadata": {},
   "outputs": [
    {
     "data": {
      "text/plain": [
       "1/4*sqrt(abs(3*x^3 + 2*x^2 - 10*x))/x + 1/4*sqrt(abs(3*x^3 - 2*x^2 - 10*x))/x"
      ]
     },
     "execution_count": 7,
     "metadata": {},
     "output_type": "execute_result"
    }
   ],
   "source": [
    "(f(x) - f(-x)).expand().simplify()"
   ]
  },
  {
   "cell_type": "markdown",
   "metadata": {},
   "source": [
    "####  Периодичность"
   ]
  },
  {
   "cell_type": "code",
   "execution_count": 8,
   "metadata": {},
   "outputs": [
    {
     "data": {
      "text/plain": [
       "-1/4*(x*sqrt(abs(3*T^3 + (9*T + 2)*x^2 + 3*x^3 + 2*T^2 + (9*T^2 + 4*T - 10)*x - 10*T)) - (T + x)*sqrt(abs(3*x^3 + 2*x^2 - 10*x)))/(T*x + x^2)"
      ]
     },
     "execution_count": 8,
     "metadata": {},
     "output_type": "execute_result"
    }
   ],
   "source": [
    "var(\"x T\")\n",
    "eq1 = f(x) - f(x + T)\n",
    "eq1.simplify_full()"
   ]
  },
  {
   "cell_type": "code",
   "execution_count": 9,
   "metadata": {},
   "outputs": [
    {
     "data": {
      "text/html": [
       "<html><script type=\"math/tex; mode=display\">\\newcommand{\\Bold}[1]{\\mathbf{#1}}-\\frac{\\sqrt{{\\left| 3 \\, {\\left(T + x\\right)}^{3} + 2 \\, {\\left(T + x\\right)}^{2} - 10 \\, T - 10 \\, x \\right|}}}{4 \\, {\\left(T + x\\right)}} + \\frac{\\sqrt{{\\left| 3 \\, x^{3} + 2 \\, x^{2} - 10 \\, x \\right|}}}{4 \\, x}</script></html>"
      ],
      "text/latex": [
       "\\begin{math}\n",
       "\\newcommand{\\Bold}[1]{\\mathbf{#1}}-\\frac{\\sqrt{{\\left| 3 \\, {\\left(T + x\\right)}^{3} + 2 \\, {\\left(T + x\\right)}^{2} - 10 \\, T - 10 \\, x \\right|}}}{4 \\, {\\left(T + x\\right)}} + \\frac{\\sqrt{{\\left| 3 \\, x^{3} + 2 \\, x^{2} - 10 \\, x \\right|}}}{4 \\, x}\n",
       "\\end{math}"
      ],
      "text/plain": [
       "-1/4*sqrt(abs(3*(T + x)^3 + 2*(T + x)^2 - 10*T - 10*x))/(T + x) + 1/4*sqrt(abs(3*x^3 + 2*x^2 - 10*x))/x"
      ]
     },
     "metadata": {},
     "output_type": "display_data"
    }
   ],
   "source": [
    "# eq1 = _\n",
    "show(eq1)"
   ]
  },
  {
   "cell_type": "code",
   "execution_count": 10,
   "metadata": {},
   "outputs": [
    {
     "data": {
      "text/plain": [
       "1/4*sqrt(5) - 1/4*sqrt(3)"
      ]
     },
     "execution_count": 10,
     "metadata": {},
     "output_type": "execute_result"
    }
   ],
   "source": [
    "eq1(x=1, T=1)"
   ]
  },
  {
   "cell_type": "code",
   "execution_count": 11,
   "metadata": {},
   "outputs": [
    {
     "data": {
      "text/plain": [
       "[T == x*(sqrt(abs(3*T^3 + (9*T + 2)*x^2 + 3*x^3 + 2*T^2 + (9*T^2 + 4*T - 10)*x - 10*T)) - sqrt(abs(3*x^3 + 2*x^2 - 10*x)))/sqrt(abs(3*x^3 + 2*x^2 - 10*x))]"
      ]
     },
     "execution_count": 11,
     "metadata": {},
     "output_type": "execute_result"
    }
   ],
   "source": [
    "eq1 = f(x) - f(x + T)\n",
    "solve(eq1, T)\n",
    "# Так как уравнение имеет абсолютные значения - оно не может быть инвертировано в комплексные значения"
   ]
  },
  {
   "cell_type": "markdown",
   "metadata": {},
   "source": [
    "Функция является **ни четной ни нечетной (функция общего вида) и не периодической**\n",
    "\n",
    "Поскольку невыполняется ни равенство\n",
    "\n",
    "#### f(-x) = f(x)\n",
    "\n",
    "ни равенство\n",
    "\n",
    "#### f(-x) = -f(x)\n",
    "\n",
    "периодичность\n",
    "\n",
    "#### f(x) = f(x + T) = f(x - T) "
   ]
  },
  {
   "cell_type": "markdown",
   "metadata": {},
   "source": [
    "### 3.Точки пересечения графика с осями координат."
   ]
  },
  {
   "cell_type": "markdown",
   "metadata": {},
   "source": [
    "Пересечения с осью ординат у данной функции нет, поскольку ОДЗ - $x \\neq 0$ "
   ]
  },
  {
   "cell_type": "code",
   "execution_count": 12,
   "metadata": {},
   "outputs": [
    {
     "data": {
      "text/plain": [
       "[x == -1/3*sqrt(31) - 1/3, x == 1/3*sqrt(31) - 1/3, x == 0]"
      ]
     },
     "execution_count": 12,
     "metadata": {},
     "output_type": "execute_result"
    }
   ],
   "source": [
    "solve(f==0, x)"
   ]
  },
  {
   "cell_type": "markdown",
   "metadata": {},
   "source": [
    "У функции две точки пересечения с осью абсцисс, т.к. область значений f(x) &in; E find_root(f(x)==0, 1, 2)\n",
    "\n",
    "Точка пересечения x = 0 найдена неверно, так как не входит в область допустимых значений."
   ]
  },
  {
   "cell_type": "markdown",
   "metadata": {},
   "source": [
    "### 4.Промежутки знакопостоянства."
   ]
  },
  {
   "cell_type": "markdown",
   "metadata": {},
   "source": [
    "Поскольку корни есть, но нет точек пересечения. При x = 0 неопределенность 0 != 0"
   ]
  },
  {
   "cell_type": "code",
   "execution_count": 13,
   "metadata": {},
   "outputs": [
    {
     "data": {
      "text/plain": [
       "[[-3*x^2 - 2*x + 10 > 0, 3*x^2 + 2*x - 10 == 0, x != 0],\n",
       " [3*x^2 + 2*x - 10 == 0, 3*x^2 + 2*x - 10 == 0, x != 0],\n",
       " [3*x^2 + 2*x - 10 > 0, 3*x^2 + 2*x - 10 == 0, x != 0],\n",
       " [x == 0, 0 != 0],\n",
       " [0 < x, sqrt(abs(3*x^2 + 2*x - 10)*abs(x)) > 0]]"
      ]
     },
     "execution_count": 13,
     "metadata": {},
     "output_type": "execute_result"
    }
   ],
   "source": [
    "solve(f(x) >= 0, x)"
   ]
  },
  {
   "cell_type": "code",
   "execution_count": 14,
   "metadata": {},
   "outputs": [
    {
     "data": {
      "text/plain": [
       "[[x < 0, sqrt(abs(3*x^2 + 2*x - 10)*abs(x)) > 0]]"
      ]
     },
     "execution_count": 14,
     "metadata": {},
     "output_type": "execute_result"
    }
   ],
   "source": [
    "solve(f(x) < 0, x)"
   ]
  },
  {
   "cell_type": "code",
   "execution_count": 1,
   "metadata": {},
   "outputs": [
    {
     "data": {
      "image/png": "[encoded data removed]",
      "text/plain": [
       "Graphics object consisting of 5 graphics primitives"
      ]
     },
     "metadata": {},
     "output_type": "display_data"
    }
   ],
   "source": [
    "graph = plot(0, xmin=-1, xmax=1, ymin=-0.5, ymax=0.5)\n",
    "graph += point((0, 0), color=\"red\", size=30)\n",
    "graph  += text(\"$0$\", (0, 0.07), color=\"black\", fontsize=14)\n",
    "graph  += text(\"-\", (-0.5, 0.07), color=\"black\", fontsize=25) \n",
    "graph  += text(\"+\", (0.5, 0.07), color=\"black\", fontsize=20)\n",
    "graph.show(axes=False)"
   ]
  },
  {
   "cell_type": "markdown",
   "metadata": {},
   "source": [
    "### 5. Промежутки возрастания и убывания."
   ]
  },
  {
   "cell_type": "markdown",
   "metadata": {},
   "source": [
    "Производная и интервалы знакопостоянства"
   ]
  },
  {
   "cell_type": "code",
   "execution_count": 4,
   "metadata": {},
   "outputs": [
    {
     "data": {
      "text/html": [
       "<html><script type=\"math/tex; mode=display\">\\newcommand{\\Bold}[1]{\\mathbf{#1}}x \\ {\\mapsto}\\ \\frac{{\\left(3 \\, \\overline{x}^{3} + 2 \\, \\overline{x}^{2} - 10 \\, \\overline{x}\\right)} {\\left(9 \\, x^{2} + 4 \\, x - 10\\right)} + {\\left(3 \\, x^{3} + 2 \\, x^{2} - 10 \\, x\\right)} {\\left(9 \\, \\overline{x}^{2} + 4 \\, \\overline{x} - 10\\right)}}{16 \\, x {\\left| 3 \\, x^{3} + 2 \\, x^{2} - 10 \\, x \\right|}^{\\frac{3}{2}}} - \\frac{\\sqrt{{\\left| 3 \\, x^{3} + 2 \\, x^{2} - 10 \\, x \\right|}}}{4 \\, x^{2}}</script></html>"
      ],
      "text/latex": [
       "\\begin{math}\n",
       "\\newcommand{\\Bold}[1]{\\mathbf{#1}}x \\ {\\mapsto}\\ \\frac{{\\left(3 \\, \\overline{x}^{3} + 2 \\, \\overline{x}^{2} - 10 \\, \\overline{x}\\right)} {\\left(9 \\, x^{2} + 4 \\, x - 10\\right)} + {\\left(3 \\, x^{3} + 2 \\, x^{2} - 10 \\, x\\right)} {\\left(9 \\, \\overline{x}^{2} + 4 \\, \\overline{x} - 10\\right)}}{16 \\, x {\\left| 3 \\, x^{3} + 2 \\, x^{2} - 10 \\, x \\right|}^{\\frac{3}{2}}} - \\frac{\\sqrt{{\\left| 3 \\, x^{3} + 2 \\, x^{2} - 10 \\, x \\right|}}}{4 \\, x^{2}}\n",
       "\\end{math}"
      ],
      "text/plain": [
       "x |--> 1/16*((3*conjugate(x)^3 + 2*conjugate(x)^2 - 10*conjugate(x))*(9*x^2 + 4*x - 10) + (3*x^3 + 2*x^2 - 10*x)*(9*conjugate(x)^2 + 4*conjugate(x) - 10))/(x*abs(3*x^3 + 2*x^2 - 10*x)^(3/2)) - 1/4*sqrt(abs(3*x^3 + 2*x^2 - 10*x))/x^2"
      ]
     },
     "metadata": {},
     "output_type": "display_data"
    }
   ],
   "source": [
    "der = f.derivative()\n",
    "der.show()"
   ]
  },
  {
   "cell_type": "markdown",
   "metadata": {},
   "source": [
    "Положительная производная"
   ]
  },
  {
   "cell_type": "code",
   "execution_count": 5,
   "metadata": {},
   "outputs": [
    {
     "data": {
      "text/plain": [
       "[[3*x^2 + 2*x - 10 > 0]]"
      ]
     },
     "execution_count": 5,
     "metadata": {},
     "output_type": "execute_result"
    }
   ],
   "source": [
    "solve(der > 0, x, to_poly_solve=True)"
   ]
  },
  {
   "cell_type": "code",
   "execution_count": 6,
   "metadata": {},
   "outputs": [
    {
     "data": {
      "text/plain": [
       "[[x < -1/3*sqrt(31) - 1/3], [x > 1/3*sqrt(31) - 1/3]]"
      ]
     },
     "execution_count": 6,
     "metadata": {},
     "output_type": "execute_result"
    }
   ],
   "source": [
    "solve(der > 0, x, algorithm='sympy')"
   ]
  },
  {
   "cell_type": "code",
   "execution_count": 7,
   "metadata": {},
   "outputs": [
    {
     "data": {
      "text/plain": [
       "[[3*x^2 + 2*x - 10 > 0]]"
      ]
     },
     "execution_count": 7,
     "metadata": {},
     "output_type": "execute_result"
    }
   ],
   "source": [
    "solve(der > 0, x, to_poly_solve='force')"
   ]
  },
  {
   "cell_type": "markdown",
   "metadata": {},
   "source": [
    "алгоритм sympy нашел положительные производные на отрезке\n",
    "\n",
    "(x < - $\\frac{1}{3}$*$\\sqrt{31}$ -  $\\frac{1}{3}$), (x >  $\\frac{1}{3}$*$\\sqrt{31}$ - $\\frac{1}{3}$)\n",
    "\n",
    "отрезок (x < A) (x > B) на графике"
   ]
  },
  {
   "cell_type": "code",
   "execution_count": 11,
   "metadata": {},
   "outputs": [
    {
     "data": {
      "image/png": "[encoded data removed]",
      "text/plain": [
       "Graphics object consisting of 10 graphics primitives"
      ]
     },
     "metadata": {},
     "output_type": "display_data"
    }
   ],
   "source": [
    "intervals = plot(0, xmin=-3, xmax=3, ymin=-0.5, ymax=0.5)\n",
    "\n",
    "intervals += point( (-2, 0), color=\"red\", size=30, zorder=10 )\n",
    "intervals += point( (2, 0), color=\"red\", size=30, zorder=10 ) \n",
    "intervals += point( (0, 0), color=\"black\", size=30, zorder=10 ) \n",
    "\n",
    "intervals  += text(\"$А$\", (-2, 0.1), color=\"black\", fontsize=14) \n",
    "intervals  += text(\"$В$\", (2, 0.1), color=\"black\", fontsize=14)\n",
    "intervals  += text(\"$0$\", (0, 0.1), color=\"black\", fontsize=14) \n",
    "\n",
    "intervals  += text(\"$y'(x) > 0$\", (-2.5, -0.1), color=\"black\", fontsize=14)\n",
    "intervals  += text(\"$y'(x) > 0$\", (2.5, -0.1), color=\"black\", fontsize=14)\n",
    "intervals  += text(\"$y'(x) < 0$\", (0, -0.1), color=\"black\", fontsize=14)\n",
    "\n",
    "intervals.show(axes=False)"
   ]
  },
  {
   "cell_type": "markdown",
   "metadata": {},
   "source": [
    " ### 6. Точки экстремума и значения в этих точках.\n",
    " Экстремумов исходная функция не имеет.\n",
    " \n",
    " Есть локальные максимумы и минимумы в точках - $\\frac{1}{3}$*$\\sqrt{31}$ -  $\\frac{1}{3}$ и $\\frac{1}{3}$*$\\sqrt{31}$ -  $\\frac{1}{3}$ соответственно"
   ]
  },
  {
   "cell_type": "code",
   "execution_count": 17,
   "metadata": {},
   "outputs": [
    {
     "data": {
      "text/plain": [
       "-3/4*sqrt(abs(-1/9*(sqrt(31) + 1)^3 + 2/9*(sqrt(31) + 1)^2 + 10/3*sqrt(31) + 10/3))/(sqrt(31) + 1)"
      ]
     },
     "execution_count": 17,
     "metadata": {},
     "output_type": "execute_result"
    }
   ],
   "source": [
    "# локальный максимум\n",
    "f(-1/3 * sqrt(31)-1/3)"
   ]
  },
  {
   "cell_type": "code",
   "execution_count": 14,
   "metadata": {},
   "outputs": [
    {
     "data": {
      "text/plain": [
       "-3/40*sqrt(1111333/10)"
      ]
     },
     "execution_count": 14,
     "metadata": {},
     "output_type": "execute_result"
    }
   ],
   "source": [
    "f(-1/1000)"
   ]
  },
  {
   "cell_type": "code",
   "execution_count": 18,
   "metadata": {},
   "outputs": [
    {
     "data": {
      "text/plain": [
       "-3/8"
      ]
     },
     "execution_count": 18,
     "metadata": {},
     "output_type": "execute_result"
    }
   ],
   "source": [
    "f(-2-2/3)"
   ]
  },
  {
   "cell_type": "code",
   "execution_count": 19,
   "metadata": {},
   "outputs": [
    {
     "data": {
      "text/plain": [
       "3/4*sqrt(abs(1/9*(sqrt(31) - 1)^3 + 2/9*(sqrt(31) - 1)^2 - 10/3*sqrt(31) + 10/3))/(sqrt(31) - 1)"
      ]
     },
     "execution_count": 19,
     "metadata": {},
     "output_type": "execute_result"
    }
   ],
   "source": [
    "# локальный минимум\n",
    "f(1/3*sqrt(31)-1/3)"
   ]
  },
  {
   "cell_type": "markdown",
   "metadata": {},
   "source": [
    "### 7. Непрерывность. Наличие точек разрыва и их классификация."
   ]
  },
  {
   "cell_type": "markdown",
   "metadata": {},
   "source": [
    " График функции прерывен в точке $0$. Левосторонний и правосторонний пределы не равны, значит точка не устанимого разрыва. На области определения функция непрерывна."
   ]
  },
  {
   "cell_type": "code",
   "execution_count": 20,
   "metadata": {},
   "outputs": [
    {
     "data": {
      "text/plain": [
       "x |--> Infinity"
      ]
     },
     "execution_count": 20,
     "metadata": {},
     "output_type": "execute_result"
    }
   ],
   "source": [
    "limit(f, x=+0)"
   ]
  },
  {
   "cell_type": "code",
   "execution_count": 21,
   "metadata": {},
   "outputs": [
    {
     "data": {
      "text/plain": [
       "x |--> Infinity"
      ]
     },
     "execution_count": 21,
     "metadata": {},
     "output_type": "execute_result"
    }
   ],
   "source": [
    "limit(f, x=-0)"
   ]
  },
  {
   "cell_type": "markdown",
   "metadata": {},
   "source": [
    "### 8. асимптоты."
   ]
  },
  {
   "cell_type": "markdown",
   "metadata": {},
   "source": [
    " Уравнения наклонных асимптот: $y = kx + b$.\n",
    "\n",
    "Определение: $\\lim_{x\\to\\infty} (kx + b - y(x)) = 0$\n",
    "\n",
    "где коэффициент k:\n",
    "\n",
    "$k = \\lim_{x\\to\\infty} (y(x) / x)$"
   ]
  },
  {
   "cell_type": "code",
   "execution_count": 28,
   "metadata": {},
   "outputs": [
    {
     "data": {
      "text/plain": [
       "x |--> 0"
      ]
     },
     "execution_count": 28,
     "metadata": {},
     "output_type": "execute_result"
    }
   ],
   "source": [
    "limit(f/x, x=Infinity)"
   ]
  },
  {
   "cell_type": "markdown",
   "metadata": {},
   "source": [
    "и коэффициент b:\n",
    "\n",
    "$b = \\lim_{x\\to\\infty} (y(x) - kx)$"
   ]
  },
  {
   "cell_type": "code",
   "execution_count": 29,
   "metadata": {},
   "outputs": [
    {
     "data": {
      "text/plain": [
       "x |--> +Infinity"
      ]
     },
     "execution_count": 29,
     "metadata": {},
     "output_type": "execute_result"
    }
   ],
   "source": [
    "limit(f, x=Infinity)"
   ]
  },
  {
   "cell_type": "markdown",
   "metadata": {},
   "source": [
    "Получаем, что горизонтальной асимптоты не существует. Вертикальная равна $x = 0$"
   ]
  }
 ],
 "metadata": {
  "kernelspec": {
   "display_name": "SageMath 9.2",
   "language": "sage",
   "name": "sagemath"
  },
  "language_info": {
   "codemirror_mode": {
    "name": "ipython",
    "version": 3
   },
   "file_extension": ".py",
   "mimetype": "text/x-python",
   "name": "python",
   "nbconvert_exporter": "python",
   "pygments_lexer": "ipython3",
   "version": "3.7.7"
  }
 },
 "nbformat": 4,
 "nbformat_minor": 4
}

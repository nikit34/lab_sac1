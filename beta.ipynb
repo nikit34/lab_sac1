{
 "cells": [
  {
   "cell_type": "markdown",
   "metadata": {},
   "source": [
    "Системы аналитических вычислений.\n",
    "\n",
    "Студент: Пермяков Никита Александрович, М8О-208Б-19\n",
    "\n",
    "Лабораторная работа №1."
   ]
  },
  {
   "cell_type": "markdown",
   "metadata": {},
   "source": [
    "## Задание 1 - часть 1 - Квадратик"
   ]
  },
  {
   "cell_type": "code",
   "execution_count": 1,
   "metadata": {},
   "outputs": [],
   "source": [
    "AB = 11.\n",
    "BC = 23.\n",
    "CD = 11.\n",
    "AD = 23.\n",
    "alpha = -60.\n",
    "\n",
    "x0 = 0\n",
    "y0 = 0\n",
    "x1 = x0\n",
    "y1 = y0 + AB\n",
    "x2 = x0 + AD\n",
    "y2 = y0 + AB\n",
    "x3 = x0 + AD\n",
    "y3 = y0"
   ]
  },
  {
   "cell_type": "code",
   "execution_count": 2,
   "metadata": {},
   "outputs": [],
   "source": [
    "def rot(alpha):\n",
    "    return alpha / 180 * pi\n",
    "    \n",
    "mat_rot = [\n",
    "    [cos(rot(alpha)), sin(rot(alpha))],\n",
    "    [-sin(rot(alpha)), cos(rot(alpha))]\n",
    "]\n",
    "\n",
    "def mult_matrix_vec(X, Y):\n",
    "    h = len(X)\n",
    "    w = len(Y)\n",
    "    assert w == len(X[0]) and isinstance(Y[0], Integer), \"matrix is invalid\" \n",
    "    result = [0 for _ in range(w)]\n",
    "    for j in range(h):  \n",
    "        for k in range(w):  \n",
    "            result[j] += X[j][k] * Y[k]  \n",
    "    return result"
   ]
  },
  {
   "cell_type": "code",
   "execution_count": 3,
   "metadata": {},
   "outputs": [
    {
     "ename": "AssertionError",
     "evalue": "matrix is invalid",
     "output_type": "error",
     "traceback": [
      "\u001b[0;31m---------------------------------------------------------------------------\u001b[0m",
      "\u001b[0;31mAssertionError\u001b[0m                            Traceback (most recent call last)",
      "\u001b[0;32m<ipython-input-3-1a1e8c083c28>\u001b[0m in \u001b[0;36m<module>\u001b[0;34m\u001b[0m\n\u001b[1;32m      9\u001b[0m \u001b[0mvecs1_rotated\u001b[0m \u001b[0;34m=\u001b[0m \u001b[0;34m[\u001b[0m\u001b[0;34m]\u001b[0m\u001b[0;34m\u001b[0m\u001b[0;34m\u001b[0m\u001b[0m\n\u001b[1;32m     10\u001b[0m \u001b[0;32mfor\u001b[0m \u001b[0mv\u001b[0m \u001b[0;32min\u001b[0m \u001b[0mvecs1\u001b[0m\u001b[0;34m:\u001b[0m\u001b[0;34m\u001b[0m\u001b[0;34m\u001b[0m\u001b[0m\n\u001b[0;32m---> 11\u001b[0;31m     \u001b[0mv1_rotated\u001b[0m \u001b[0;34m=\u001b[0m \u001b[0mmult_matrix_vec\u001b[0m\u001b[0;34m(\u001b[0m\u001b[0mmat_rot\u001b[0m\u001b[0;34m,\u001b[0m \u001b[0mv\u001b[0m\u001b[0;34m)\u001b[0m\u001b[0;34m\u001b[0m\u001b[0;34m\u001b[0m\u001b[0m\n\u001b[0m\u001b[1;32m     12\u001b[0m     \u001b[0mvecs1_rotated\u001b[0m\u001b[0;34m.\u001b[0m\u001b[0mappend\u001b[0m\u001b[0;34m(\u001b[0m\u001b[0mv1_rotated\u001b[0m\u001b[0;34m)\u001b[0m\u001b[0;34m\u001b[0m\u001b[0;34m\u001b[0m\u001b[0m\n\u001b[1;32m     13\u001b[0m \u001b[0;34m\u001b[0m\u001b[0m\n",
      "\u001b[0;32m<ipython-input-2-2825ec0d19a2>\u001b[0m in \u001b[0;36mmult_matrix_vec\u001b[0;34m(X, Y)\u001b[0m\n\u001b[1;32m     10\u001b[0m     \u001b[0mh\u001b[0m \u001b[0;34m=\u001b[0m \u001b[0mlen\u001b[0m\u001b[0;34m(\u001b[0m\u001b[0mX\u001b[0m\u001b[0;34m)\u001b[0m\u001b[0;34m\u001b[0m\u001b[0;34m\u001b[0m\u001b[0m\n\u001b[1;32m     11\u001b[0m     \u001b[0mw\u001b[0m \u001b[0;34m=\u001b[0m \u001b[0mlen\u001b[0m\u001b[0;34m(\u001b[0m\u001b[0mY\u001b[0m\u001b[0;34m)\u001b[0m\u001b[0;34m\u001b[0m\u001b[0;34m\u001b[0m\u001b[0m\n\u001b[0;32m---> 12\u001b[0;31m     \u001b[0;32massert\u001b[0m \u001b[0mw\u001b[0m \u001b[0;34m==\u001b[0m \u001b[0mlen\u001b[0m\u001b[0;34m(\u001b[0m\u001b[0mX\u001b[0m\u001b[0;34m[\u001b[0m\u001b[0mInteger\u001b[0m\u001b[0;34m(\u001b[0m\u001b[0;36m0\u001b[0m\u001b[0;34m)\u001b[0m\u001b[0;34m]\u001b[0m\u001b[0;34m)\u001b[0m \u001b[0;32mand\u001b[0m \u001b[0misinstance\u001b[0m\u001b[0;34m(\u001b[0m\u001b[0mY\u001b[0m\u001b[0;34m[\u001b[0m\u001b[0mInteger\u001b[0m\u001b[0;34m(\u001b[0m\u001b[0;36m0\u001b[0m\u001b[0;34m)\u001b[0m\u001b[0;34m]\u001b[0m\u001b[0;34m,\u001b[0m \u001b[0mInteger\u001b[0m\u001b[0;34m)\u001b[0m\u001b[0;34m,\u001b[0m \u001b[0;34m\"matrix is invalid\"\u001b[0m\u001b[0;34m\u001b[0m\u001b[0;34m\u001b[0m\u001b[0m\n\u001b[0m\u001b[1;32m     13\u001b[0m     \u001b[0mresult\u001b[0m \u001b[0;34m=\u001b[0m \u001b[0;34m[\u001b[0m\u001b[0mInteger\u001b[0m\u001b[0;34m(\u001b[0m\u001b[0;36m0\u001b[0m\u001b[0;34m)\u001b[0m \u001b[0;32mfor\u001b[0m \u001b[0m_\u001b[0m \u001b[0;32min\u001b[0m \u001b[0mrange\u001b[0m\u001b[0;34m(\u001b[0m\u001b[0mw\u001b[0m\u001b[0;34m)\u001b[0m\u001b[0;34m]\u001b[0m\u001b[0;34m\u001b[0m\u001b[0;34m\u001b[0m\u001b[0m\n\u001b[1;32m     14\u001b[0m     \u001b[0;32mfor\u001b[0m \u001b[0mj\u001b[0m \u001b[0;32min\u001b[0m \u001b[0mrange\u001b[0m\u001b[0;34m(\u001b[0m\u001b[0mh\u001b[0m\u001b[0;34m)\u001b[0m\u001b[0;34m:\u001b[0m\u001b[0;34m\u001b[0m\u001b[0;34m\u001b[0m\u001b[0m\n",
      "\u001b[0;31mAssertionError\u001b[0m: matrix is invalid"
     ]
    }
   ],
   "source": [
    "# Поворот, затем перенос относительно первоначальной системы координат\n",
    "g = Graphics()\n",
    "\n",
    "vecs1 = [[x0, y0], [x1, y1], [x2, y2], [x3, y3]]\n",
    "\n",
    "g += polygon2d(vecs1, rgbcolor=(0,1,1))\n",
    "\n",
    "# rotate\n",
    "vecs1_rotated = []\n",
    "for v in vecs1:\n",
    "    v1_rotated = mult_matrix_vec(mat_rot, v)\n",
    "    vecs1_rotated.append(v1_rotated)\n",
    "    \n",
    "g += polygon2d(vecs1_rotated, rgbcolor=(1,0,1))\n",
    "\n",
    "# move\n",
    "vecs1_rotated_moved = vecs1_rotated\n",
    "for v in vecs1_rotated_moved:\n",
    "    v[0] += 40\n",
    "    v[1] += 15\n",
    "\n",
    "g += polygon2d(vecs1_rotated_moved, rgbcolor=(1,1,0))\n",
    "\n",
    "g.set_axes_range(-5, 80, -5, 40)\n",
    "g.show()"
   ]
  },
  {
   "cell_type": "code",
   "execution_count": null,
   "metadata": {},
   "outputs": [],
   "source": [
    "# Перенос, затем поворот относительно первоначальной системы координат\n",
    "g = Graphics()\n",
    "\n",
    "vecs1 = [[x0, y0], [x1, y1], [x2, y2], [x3, y3]]\n",
    "\n",
    "g += polygon2d(vecs1, rgbcolor=(0,1,1))\n",
    "\n",
    "# move\n",
    "vecs1_moved = vecs1\n",
    "for v in vecs1_moved:\n",
    "    v[0] += 40\n",
    "    v[1] += 15\n",
    "    \n",
    "g += polygon2d(vecs1_moved, rgbcolor=(1,0,1))\n",
    "\n",
    "# rotate\n",
    "vecs1_rotated_moved = []\n",
    "for v in vecs1_moved:\n",
    "    v1_rotated = mult_matrix_vec(mat_rot, v)\n",
    "    vecs1_rotated_moved.append(v1_rotated)\n",
    "\n",
    "g += polygon2d(vecs1_rotated_moved, rgbcolor=(1,1,0))\n",
    "\n",
    "g.set_axes_range(-5, 80, -5, 80)\n",
    "g.show()\n",
    "g.save('move.png')"
   ]
  },
  {
   "cell_type": "markdown",
   "metadata": {},
   "source": [
    "# Задание 1 - часть 2 - Исследование функции"
   ]
  },
  {
   "cell_type": "code",
   "execution_count": 1,
   "metadata": {
    "scrolled": true
   },
   "outputs": [
    {
     "data": {
      "text/html": [
       "<html><script type=\"math/tex; mode=display\">\\newcommand{\\Bold}[1]{\\mathbf{#1}}\\frac{\\sqrt{{\\left| 3 \\, x^{3} + 2 \\, x^{2} - 10 \\, x \\right|}}}{4 \\, x}</script></html>"
      ],
      "text/latex": [
       "\\begin{math}\n",
       "\\newcommand{\\Bold}[1]{\\mathbf{#1}}\\frac{\\sqrt{{\\left| 3 \\, x^{3} + 2 \\, x^{2} - 10 \\, x \\right|}}}{4 \\, x}\n",
       "\\end{math}"
      ],
      "text/plain": [
       "1/4*sqrt(abs(3*x^3 + 2*x^2 - 10*x))/x"
      ]
     },
     "metadata": {},
     "output_type": "display_data"
    },
    {
     "data": {
      "text/plain": [
       "<class 'sage.symbolic.expression.Expression'>"
      ]
     },
     "execution_count": 1,
     "metadata": {},
     "output_type": "execute_result"
    }
   ],
   "source": [
    "f(x) = sqrt(abs(3 * pow(x, 3) + 2 * pow(x, 2) - 10 * x)) / (4 * x)\n",
    "\n",
    "show(f(x))\n",
    "type(f(x))"
   ]
  },
  {
   "cell_type": "markdown",
   "metadata": {},
   "source": [
    "##### 1. Область определения функции  $D$ \n",
    "\n",
    "x &ne; 0"
   ]
  },
  {
   "cell_type": "code",
   "execution_count": null,
   "metadata": {},
   "outputs": [],
   "source": [
    "var('x')\n",
    "eq1 = x\n",
    "D = solve(eq1 != 0, x, algorithm='sympy')\n",
    "D"
   ]
  },
  {
   "cell_type": "markdown",
   "metadata": {},
   "source": [
    "###### Область значений функции E(f)\n",
    "\n",
    "f(x) &ne; 0"
   ]
  },
  {
   "cell_type": "markdown",
   "metadata": {},
   "source": [
    "### 2. Является ли функция четной или нечетной, является ли периодической."
   ]
  },
  {
   "cell_type": "markdown",
   "metadata": {},
   "source": [
    "#### Нечетность функции"
   ]
  },
  {
   "cell_type": "code",
   "execution_count": null,
   "metadata": {},
   "outputs": [],
   "source": [
    "(f(x) + f(-x)).expand().simplify()"
   ]
  },
  {
   "cell_type": "markdown",
   "metadata": {},
   "source": [
    "#### Четность функции"
   ]
  },
  {
   "cell_type": "code",
   "execution_count": null,
   "metadata": {},
   "outputs": [],
   "source": [
    "(f(x) - f(-x)).expand().simplify()"
   ]
  },
  {
   "cell_type": "markdown",
   "metadata": {},
   "source": [
    "####  Периодичность"
   ]
  },
  {
   "cell_type": "code",
   "execution_count": null,
   "metadata": {},
   "outputs": [],
   "source": [
    "var(\"x T\")\n",
    "eq1 = f(x) - f(x + T)\n",
    "eq1.simplify_full()"
   ]
  },
  {
   "cell_type": "code",
   "execution_count": null,
   "metadata": {},
   "outputs": [],
   "source": [
    "# eq1 = _\n",
    "show(eq1)"
   ]
  },
  {
   "cell_type": "code",
   "execution_count": null,
   "metadata": {},
   "outputs": [],
   "source": [
    "eq1(x=1, T=1)"
   ]
  },
  {
   "cell_type": "code",
   "execution_count": null,
   "metadata": {},
   "outputs": [],
   "source": [
    "eq1 = f(x) - f(x + T)\n",
    "solve(eq1, T)\n",
    "# Так как уравнение имеет абсолютные значения - оно не может быть инвертировано в комплексные значения"
   ]
  },
  {
   "cell_type": "markdown",
   "metadata": {},
   "source": [
    "Функция является **ни четной ни нечетной (функция общего вида) и не периодической**\n",
    "\n",
    "Поскольку невыполняется ни равенство\n",
    "\n",
    "#### f(-x) = f(x)\n",
    "\n",
    "ни равенство\n",
    "\n",
    "#### f(-x) = -f(x)\n",
    "\n",
    "периодичность\n",
    "\n",
    "#### f(x) = f(x + T) = f(x - T) "
   ]
  },
  {
   "cell_type": "markdown",
   "metadata": {},
   "source": [
    "### 3.Точки пересечения графика с осями координат."
   ]
  },
  {
   "cell_type": "markdown",
   "metadata": {},
   "source": [
    "Пересечения с осью ординат у данной функции нет, поскольку ОДЗ - $x \\neq 0$ "
   ]
  },
  {
   "cell_type": "code",
   "execution_count": null,
   "metadata": {},
   "outputs": [],
   "source": [
    "solve(f==0, x)"
   ]
  },
  {
   "cell_type": "markdown",
   "metadata": {},
   "source": [
    "У функции нет точек пересечения с осью абсцисс, т.к. область значений f(x) ≠ 0 find_root(f(x)==0, 1, 2)\n",
    "\n",
    "Корней у функции нет"
   ]
  },
  {
   "cell_type": "markdown",
   "metadata": {},
   "source": [
    "### 4.Промежутки знакопостоянства."
   ]
  },
  {
   "cell_type": "markdown",
   "metadata": {},
   "source": [
    "Поскольку корней нет"
   ]
  },
  {
   "cell_type": "code",
   "execution_count": null,
   "metadata": {},
   "outputs": [],
   "source": [
    "solve(f(x) >= 0, x)"
   ]
  },
  {
   "cell_type": "code",
   "execution_count": null,
   "metadata": {},
   "outputs": [],
   "source": [
    "solve(f(x) < 0, x)"
   ]
  },
  {
   "cell_type": "code",
   "execution_count": null,
   "metadata": {},
   "outputs": [],
   "source": [
    "graph = plot(0, xmin=-1, xmax=1, ymin=-0.5, ymax=0.5)\n",
    "graph += point((0, 0), color=\"red\", size=30)\n",
    "graph  += text(\"$0$\", (0, 0.07), color=\"black\", fontsize=14)\n",
    "graph  += text(\"-\", (-0.5, 0.07), color=\"black\", fontsize=25) \n",
    "graph  += text(\"+\", (0.5, 0.07), color=\"black\", fontsize=20)\n",
    "graph.show(axes=False)"
   ]
  },
  {
   "cell_type": "markdown",
   "metadata": {},
   "source": [
    "### 5. Промежутки возрастания и убывания."
   ]
  },
  {
   "cell_type": "markdown",
   "metadata": {},
   "source": [
    "Производная и интервалы знакопостоянства"
   ]
  },
  {
   "cell_type": "code",
   "execution_count": null,
   "metadata": {},
   "outputs": [],
   "source": [
    "der = f.derivative()\n",
    "der.show()"
   ]
  },
  {
   "cell_type": "markdown",
   "metadata": {},
   "source": [
    "Положительная производная"
   ]
  },
  {
   "cell_type": "code",
   "execution_count": null,
   "metadata": {},
   "outputs": [],
   "source": [
    "solve(der > 0, x, to_poly_solve=True)"
   ]
  },
  {
   "cell_type": "code",
   "execution_count": null,
   "metadata": {},
   "outputs": [],
   "source": [
    "solve(der > 0, x, algorithm='sympy')"
   ]
  },
  {
   "cell_type": "code",
   "execution_count": null,
   "metadata": {},
   "outputs": [],
   "source": [
    "solve(der > 0, x, to_poly_solve='force')"
   ]
  },
  {
   "cell_type": "code",
   "execution_count": null,
   "metadata": {},
   "outputs": [],
   "source": [
    "plot(der, xmin = -2, xmax = 2, ymin = -1, ymax = 4)"
   ]
  },
  {
   "cell_type": "code",
   "execution_count": null,
   "metadata": {},
   "outputs": [],
   "source": []
  }
 ],
 "metadata": {
  "kernelspec": {
   "display_name": "SageMath 9.2",
   "language": "sage",
   "name": "sagemath"
  },
  "language_info": {
   "codemirror_mode": {
    "name": "ipython",
    "version": 3
   },
   "file_extension": ".py",
   "mimetype": "text/x-python",
   "name": "python",
   "nbconvert_exporter": "python",
   "pygments_lexer": "ipython3",
   "version": "3.7.7"
  }
 },
 "nbformat": 4,
 "nbformat_minor": 4
}

{
 "cells": [
  {
   "cell_type": "markdown",
   "metadata": {},
   "source": [
    "# Задание 1 - часть 1 - Квадратик"
   ]
  },
  {
   "cell_type": "code",
   "execution_count": null,
   "metadata": {},
   "outputs": [],
   "source": [
    "AB = 11\n",
    "BC = 23\n",
    "CD = 11\n",
    "AD = 23\n",
    "alpha = -60\n",
    "\n",
    "x0 = 0\n",
    "y0 = 0\n",
    "x1 = x0\n",
    "y1 = y0 + AB\n",
    "x2 = x0 + AD\n",
    "y2 = y0 + AB\n",
    "x3 = x0 + AD\n",
    "y3 = y0"
   ]
  },
  {
   "cell_type": "code",
   "execution_count": 19,
   "metadata": {},
   "outputs": [],
   "source": [
    "def rot(alpha):\n",
    "    return alpha / 180 * pi\n",
    "    \n",
    "mat_rot = [\n",
    "    [cos(rot(alpha)), sin(rot(alpha))],\n",
    "    [-sin(rot(alpha)), cos(rot(alpha))]\n",
    "]\n",
    "\n",
    "def mult_matrix_vec(X, Y):\n",
    "    h = len(X)\n",
    "    w = len(Y)\n",
    "    assert w == len(X[0]) and isinstance(Y[0], Integer), \"matrix is invalid\" \n",
    "    result = [0 for _ in range(w)]\n",
    "    for j in range(h):  \n",
    "        for k in range(w):  \n",
    "            result[j] += X[j][k] * Y[k]  \n",
    "    return result"
   ]
  },
  {
   "cell_type": "code",
   "execution_count": 20,
   "metadata": {},
   "outputs": [
    {
     "data": {
      "image/png": "[encoded data removed]",
      "text/plain": [
       "Graphics object consisting of 3 graphics primitives"
      ]
     },
     "metadata": {},
     "output_type": "display_data"
    }
   ],
   "source": [
    "# Поворот, затем перенос относительно первоначальной системы координат\n",
    "g = Graphics()\n",
    "\n",
    "vecs1 = [[x0, y0], [x1, y1], [x2, y2], [x3, y3]]\n",
    "\n",
    "g += polygon2d(vecs1, rgbcolor=(0,1,1))\n",
    "\n",
    "# rotate\n",
    "vecs1_rotated = []\n",
    "for v in vecs1:\n",
    "    v1_rotated = mult_matrix_vec(mat_rot, v)\n",
    "    vecs1_rotated.append(v1_rotated)\n",
    "    \n",
    "g += polygon2d(vecs1_rotated, rgbcolor=(1,0,1))\n",
    "\n",
    "# move\n",
    "vecs1_rotated_moved = vecs1_rotated\n",
    "for v in vecs1_rotated_moved:\n",
    "    v[0] += 40\n",
    "    v[1] += 15\n",
    "\n",
    "g += polygon2d(vecs1_rotated_moved, rgbcolor=(1,1,0))\n",
    "\n",
    "g.set_axes_range(-5, 80, -5, 40)\n",
    "g.show()"
   ]
  },
  {
   "cell_type": "code",
   "execution_count": 25,
   "metadata": {},
   "outputs": [
    {
     "data": {
      "image/png": "[encoded data removed]",
      "text/plain": [
       "Graphics object consisting of 3 graphics primitives"
      ]
     },
     "metadata": {},
     "output_type": "display_data"
    }
   ],
   "source": [
    "# Перенос, затем поворот относительно первоначальной системы координат\n",
    "g = Graphics()\n",
    "\n",
    "vecs1 = [[x0, y0], [x1, y1], [x2, y2], [x3, y3]]\n",
    "\n",
    "g += polygon2d(vecs1, rgbcolor=(0,1,1))\n",
    "\n",
    "# move\n",
    "vecs1_moved = vecs1\n",
    "for v in vecs1_moved:\n",
    "    v[0] += 40\n",
    "    v[1] += 15\n",
    "    \n",
    "g += polygon2d(vecs1_moved, rgbcolor=(1,0,1))\n",
    "\n",
    "# rotate\n",
    "vecs1_rotated_moved = []\n",
    "for v in vecs1_moved:\n",
    "    v1_rotated = mult_matrix_vec(mat_rot, v)\n",
    "    vecs1_rotated_moved.append(v1_rotated)\n",
    "\n",
    "g += polygon2d(vecs1_rotated_moved, rgbcolor=(1,1,0))\n",
    "\n",
    "g.set_axes_range(-5, 80, -5, 80)\n",
    "g.show()\n",
    "g.save('move.png')"
   ]
  },
  {
   "cell_type": "markdown",
   "metadata": {},
   "source": [
    "# Задание 1 - часть 2 - Исследование функции"
   ]
  },
  {
   "cell_type": "code",
   "execution_count": 2,
   "metadata": {
    "scrolled": true
   },
   "outputs": [
    {
     "data": {
      "text/html": [
       "<html><script type=\"math/tex; mode=display\">\\newcommand{\\Bold}[1]{\\mathbf{#1}}\\frac{\\sqrt{{\\left| 3 \\, x^{3} + 2 \\, x^{2} - 10 \\, x \\right|}}}{4 \\, x}</script></html>"
      ],
      "text/latex": [
       "\\begin{math}\n",
       "\\newcommand{\\Bold}[1]{\\mathbf{#1}}\\frac{\\sqrt{{\\left| 3 \\, x^{3} + 2 \\, x^{2} - 10 \\, x \\right|}}}{4 \\, x}\n",
       "\\end{math}"
      ],
      "text/plain": [
       "1/4*sqrt(abs(3*x^3 + 2*x^2 - 10*x))/x"
      ]
     },
     "metadata": {},
     "output_type": "display_data"
    }
   ],
   "source": [
    "def f(x):\n",
    "    return sqrt(abs(3 * pow(x, 3) + 2 * pow(x, 2) - 10 * x)) / (4 * x)\n",
    "\n",
    "show(f(x))"
   ]
  },
  {
   "cell_type": "markdown",
   "metadata": {},
   "source": [
    "### 1. Область определения функции\n",
    "\n",
    "x &ne; 0\n",
    "\n",
    "   Область значений функции\n",
    "\n",
    "f(x) &ge; 0"
   ]
  },
  {
   "cell_type": "markdown",
   "metadata": {},
   "source": [
    "### 2. Является ли функция четной или нечетной, является ли периодической."
   ]
  },
  {
   "cell_type": "code",
   "execution_count": 21,
   "metadata": {},
   "outputs": [],
   "source": [
    "var(\"x T\")\n",
    "eq1 = f(x) - f(x + T)"
   ]
  },
  {
   "cell_type": "code",
   "execution_count": 22,
   "metadata": {},
   "outputs": [
    {
     "data": {
      "text/plain": [
       "-1/4*(x*sqrt(abs(3*T^3 + (9*T + 2)*x^2 + 3*x^3 + 2*T^2 + (9*T^2 + 4*T - 10)*x - 10*T)) - (T + x)*sqrt(abs(3*x^3 + 2*x^2 - 10*x)))/(T*x + x^2)"
      ]
     },
     "execution_count": 22,
     "metadata": {},
     "output_type": "execute_result"
    }
   ],
   "source": [
    "eq1.simplify_full()"
   ]
  },
  {
   "cell_type": "code",
   "execution_count": 23,
   "metadata": {},
   "outputs": [
    {
     "data": {
      "text/html": [
       "<html><script type=\"math/tex; mode=display\">\\newcommand{\\Bold}[1]{\\mathbf{#1}}-\\frac{\\sqrt{{\\left| 3 \\, {\\left(T + x\\right)}^{3} + 2 \\, {\\left(T + x\\right)}^{2} - 10 \\, T - 10 \\, x \\right|}}}{4 \\, {\\left(T + x\\right)}} + \\frac{\\sqrt{{\\left| 3 \\, x^{3} + 2 \\, x^{2} - 10 \\, x \\right|}}}{4 \\, x}</script></html>"
      ],
      "text/latex": [
       "\\begin{math}\n",
       "\\newcommand{\\Bold}[1]{\\mathbf{#1}}-\\frac{\\sqrt{{\\left| 3 \\, {\\left(T + x\\right)}^{3} + 2 \\, {\\left(T + x\\right)}^{2} - 10 \\, T - 10 \\, x \\right|}}}{4 \\, {\\left(T + x\\right)}} + \\frac{\\sqrt{{\\left| 3 \\, x^{3} + 2 \\, x^{2} - 10 \\, x \\right|}}}{4 \\, x}\n",
       "\\end{math}"
      ],
      "text/plain": [
       "-1/4*sqrt(abs(3*(T + x)^3 + 2*(T + x)^2 - 10*T - 10*x))/(T + x) + 1/4*sqrt(abs(3*x^3 + 2*x^2 - 10*x))/x"
      ]
     },
     "metadata": {},
     "output_type": "display_data"
    }
   ],
   "source": [
    "show(eq1)"
   ]
  },
  {
   "cell_type": "code",
   "execution_count": 24,
   "metadata": {},
   "outputs": [
    {
     "data": {
      "text/plain": [
       "-1/12*sqrt(69) + 1/4*sqrt(5)"
      ]
     },
     "execution_count": 24,
     "metadata": {},
     "output_type": "execute_result"
    }
   ],
   "source": [
    "eq1(x=1, T=2)"
   ]
  },
  {
   "cell_type": "code",
   "execution_count": 25,
   "metadata": {},
   "outputs": [],
   "source": [
    "eq1 = f(x) - f(x + T)"
   ]
  },
  {
   "cell_type": "code",
   "execution_count": 26,
   "metadata": {},
   "outputs": [
    {
     "data": {
      "text/plain": [
       "[T == x*(sqrt(abs(3*T^3 + (9*T + 2)*x^2 + 3*x^3 + 2*T^2 + (9*T^2 + 4*T - 10)*x - 10*T)) - sqrt(abs(3*x^3 + 2*x^2 - 10*x)))/sqrt(abs(3*x^3 + 2*x^2 - 10*x))]"
      ]
     },
     "execution_count": 26,
     "metadata": {},
     "output_type": "execute_result"
    }
   ],
   "source": [
    "solve(eq1, T)"
   ]
  },
  {
   "cell_type": "code",
   "execution_count": null,
   "metadata": {},
   "outputs": [],
   "source": []
  },
  {
   "cell_type": "code",
   "execution_count": null,
   "metadata": {},
   "outputs": [],
   "source": []
  },
  {
   "cell_type": "code",
   "execution_count": null,
   "metadata": {},
   "outputs": [],
   "source": []
  }
 ],
 "metadata": {
  "kernelspec": {
   "display_name": "SageMath 9.2",
   "language": "sage",
   "name": "sagemath"
  },
  "language_info": {
   "codemirror_mode": {
    "name": "ipython",
    "version": 3
   },
   "file_extension": ".py",
   "mimetype": "text/x-python",
   "name": "python",
   "nbconvert_exporter": "python",
   "pygments_lexer": "ipython3",
   "version": "3.7.7"
  }
 },
 "nbformat": 4,
 "nbformat_minor": 4
}
